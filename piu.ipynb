{
 "cells": [
  {
   "cell_type": "code",
   "execution_count": 29,
   "metadata": {},
   "outputs": [],
   "source": [
    "# Создаем лист\n",
    "import datetime\n",
    "import itertools\n",
    "from getopt import getopt\n",
    "import httplib2\n",
    "import apiclient.discovery\n",
    "from oauth2client.service_account import ServiceAccountCredentials\n",
    "\n",
    "CREDENTIALS_FILE = 'spat-299221-09b896eba28f.json'  # Имя файла с закрытым ключом, вы должны подставить свое\n",
    "\n",
    "# Читаем ключи из файла\n",
    "credentials = ServiceAccountCredentials.from_json_keyfile_name(CREDENTIALS_FILE, ['https://www.googleapis.com/auth/spreadsheets', 'https://www.googleapis.com/auth/drive'])\n",
    "\n",
    "httpAuth = credentials.authorize(httplib2.Http()) # Авторизуемся в системе\n",
    "service = apiclient.discovery.build('sheets', 'v4', http = httpAuth) # Выбираем работу с таблицами и 4 версию API\n",
    "#\n",
    "# spreadsheet = service.spreadsheets().create(body = {\n",
    "#     'properties': {'title': 'Первый тестовый документ', 'locale': 'ru_RU'},\n",
    "#     'sheets': [{'properties': {'sheetType': 'GRID',\n",
    "#                                'sheetId': 0,\n",
    "#                                'title': 'Лист номер один',\n",
    "#                                'gridProperties': {'rowCount': 100, 'columnCount': 15}}}]\n",
    "# }).execute()\n",
    "# spreadsheetId = spreadsheet['spreadsheetId'] # сохраняем идентификатор файла\n",
    "# print('https://docs.google.com/spreadsheets/d/' + spreadsheetId)"
   ]
  },
  {
   "cell_type": "code",
   "execution_count": 30,
   "metadata": {
    "pycharm": {
     "name": "#%%\n"
    }
   },
   "outputs": [],
   "source": [
    "spreadsheetId = '194JQ48WKfbGt0NZjyCRHLUXEvaMvtxQ1lWv05NZlyR8'"
   ]
  },
  {
   "cell_type": "code",
   "execution_count": 31,
   "metadata": {
    "pycharm": {
     "name": "#%%\n"
    }
   },
   "outputs": [],
   "source": [
    "#даем доступ\n",
    "# driveService = apiclient.discovery.build('drive', 'v3', http = httpAuth) # Выбираем работу с Google Drive и 3 версию API\n",
    "# access = driveService.permissions().create(\n",
    "#     fileId = spreadsheetId,\n",
    "#     body = {'type': 'user', 'role': 'writer', 'emailAddress': 'kiborg904@gmail.com'},  # Открываем доступ на редактирование\n",
    "#     fields = 'id'\n",
    "# ).execute()"
   ]
  },
  {
   "cell_type": "code",
   "execution_count": 32,
   "metadata": {
    "pycharm": {
     "name": "#%%\n"
    }
   },
   "outputs": [
    {
     "name": "stdout",
     "output_type": "stream",
     "text": [
      "[['PO Number'], [], ['202002039'], ['0']]\n"
     ]
    }
   ],
   "source": [
    "#так можно читать только нужно что бы в клетке было хоть какое то значение\n",
    "ranges = [\"list!A2:A10\"] #\n",
    "\n",
    "results = service.spreadsheets().values().batchGet(spreadsheetId = spreadsheetId,\n",
    "                                     ranges = ranges,\n",
    "                                     valueRenderOption = 'FORMATTED_VALUE',\n",
    "                                     dateTimeRenderOption = 'FORMATTED_STRING').execute()\n",
    "sheet_values = results['valueRanges'][0]['values']\n",
    "print(sheet_values)"
   ]
  },
  {
   "cell_type": "code",
   "execution_count": 33,
   "metadata": {
    "pycharm": {
     "name": "#%%\n"
    }
   },
   "outputs": [],
   "source": [
    "ranges = \"list!A2:A10\" #\n",
    "def read_in_sheet(ranges):\n",
    "\n",
    "    results = service.spreadsheets().values().batchGet(spreadsheetId = spreadsheetId,\n",
    "                                         ranges =[ranges],\n",
    "                                         valueRenderOption = 'FORMATTED_VALUE',\n",
    "                                         dateTimeRenderOption = 'FORMATTED_STRING').execute()\n",
    "    sheet_values = results['valueRanges'][0]['values']\n",
    "    return sheet_values"
   ]
  },
  {
   "cell_type": "code",
   "execution_count": 34,
   "metadata": {
    "pycharm": {
     "name": "#%%\n"
    }
   },
   "outputs": [],
   "source": [
    "#так можно записывать статус итд\n",
    "#\n",
    "# results = service.spreadsheets().values().batchUpdate(spreadsheetId = spreadsheetId, body = {\n",
    "#     \"valueInputOption\": \"USER_ENTERED\", # Данные воспринимаются, как вводимые пользователем (считается значение формул)\n",
    "#     \"data\": [\n",
    "#         {\"range\": \"Лист номер один!I1\",\n",
    "#          \"majorDimension\": \"ROWS\",     # Сначала заполнять строки, затем столбцы\n",
    "#          \"values\": [['10']]}\n",
    "#     ]\n",
    "# }).execute()"
   ]
  },
  {
   "cell_type": "code",
   "execution_count": 35,
   "metadata": {
    "pycharm": {
     "name": "#%%\n"
    }
   },
   "outputs": [],
   "source": [
    "#так можно записывать статус итд\n",
    "\n",
    "def write_in_sheet(ranges, v):\n",
    "    results = service.spreadsheets().values().batchUpdate(spreadsheetId = spreadsheetId, body = {\n",
    "        \"valueInputOption\": \"USER_ENTERED\", # Данные воспринимаются, как вводимые пользователем (считается значение формул)\n",
    "        \"data\": [\n",
    "            {\"range\": ranges,\n",
    "             \"majorDimension\": \"ROWS\",     # Сначала заполнять строки, затем столбцы\n",
    "             \"values\": [v]}\n",
    "        ]\n",
    "    }).execute()\n"
   ]
  },
  {
   "cell_type": "code",
   "execution_count": 36,
   "metadata": {
    "pycharm": {
     "name": "#%%\n"
    }
   },
   "outputs": [],
   "source": [
    "import pandas as pd\n",
    "import numpy as np"
   ]
  },
  {
   "cell_type": "code",
   "execution_count": 37,
   "metadata": {
    "pycharm": {
     "name": "#%%\n"
    }
   },
   "outputs": [],
   "source": [
    "values=[\"11\"]\n",
    "ranges = \"list!I1\"\n",
    "\n",
    "write_in_sheet(ranges, values)\n"
   ]
  },
  {
   "cell_type": "code",
   "execution_count": 38,
   "metadata": {
    "pycharm": {
     "name": "#%%\n"
    }
   },
   "outputs": [
    {
     "data": {
      "text/plain": "[['PO Number'], [], ['202002039'], ['0']]"
     },
     "execution_count": 38,
     "metadata": {},
     "output_type": "execute_result"
    }
   ],
   "source": [
    "ranges = \"list!A2:A10\" #\n",
    "\n",
    "read_in_sheet(ranges)"
   ]
  },
  {
   "cell_type": "code",
   "execution_count": 39,
   "metadata": {
    "pycharm": {
     "name": "#%%\n"
    }
   },
   "outputs": [
    {
     "name": "stdout",
     "output_type": "stream",
     "text": [
      "[['PO Number'], [], ['202002039'], ['0']]\n"
     ]
    }
   ],
   "source": [
    "print(read_in_sheet(ranges))"
   ]
  },
  {
   "cell_type": "code",
   "execution_count": 40,
   "metadata": {
    "pycharm": {
     "name": "#%%\n"
    }
   },
   "outputs": [],
   "source": [
    "import trello\n",
    "from trello import TrelloApi\n",
    "\n",
    "KEY =\"d94ecb038bdf5a7e8137f62df4895f9b\"\n",
    "TOKEN =\"860ad5593b367c7f58b4caa5259eeb72e9b8482ff42aec77aa8bca49802235b2\"\n"
   ]
  },
  {
   "cell_type": "code",
   "execution_count": 41,
   "metadata": {
    "pycharm": {
     "name": "#%%\n"
    }
   },
   "outputs": [],
   "source": [
    "# trello.get_token_url('My App', expires='30days', write_access=True)\n",
    "    # 'https://trello.com/1/authorize?key=TRELLO_APP_KEY&name=My+App&expiration=30days&response_type=token&scope=read,write'"
   ]
  },
  {
   "cell_type": "code",
   "execution_count": 42,
   "metadata": {
    "pycharm": {
     "name": "#%%\n"
    }
   },
   "outputs": [],
   "source": [
    "KEY_TRELLO= 'd94ecb038bdf5a7e8137f62df4895f9b',\n",
    "TOKEN_TRELLO= '860ad5593b367c7f58b4caa5259eeb72e9b8482ff42aec77aa8bca49802235b2',\n",
    "\n",
    "query = {\n",
    "   'key': 'd94ecb038bdf5a7e8137f62df4895f9b',\n",
    "   'token': '860ad5593b367c7f58b4caa5259eeb72e9b8482ff42aec77aa8bca49802235b2'\n",
    "}"
   ]
  },
  {
   "cell_type": "code",
   "execution_count": 43,
   "metadata": {
    "pycharm": {
     "name": "#%%\n"
    }
   },
   "outputs": [],
   "source": [
    "import requests\n",
    "import json\n",
    "#\n",
    "# url = \"https://api.trello.com/1/boards/ImnWqCZf\"\n",
    "#\n",
    "# headers = {\n",
    "#    \"Accept\": \"application/json\"\n",
    "# }\n",
    "#\n",
    "#\n",
    "# response = requests.request(\n",
    "#    \"GET\",\n",
    "#    url,\n",
    "#    headers=headers,\n",
    "#    params=query\n",
    "# )\n",
    "#\n",
    "# print(json.dumps(json.loads(response.text), sort_keys=True, indent=4, separators=(\",\", \": \")))"
   ]
  },
  {
   "cell_type": "code",
   "execution_count": 44,
   "outputs": [],
   "source": [
    "listID=  \"5fe85a6acf00561cc1662d7b\""
   ],
   "metadata": {
    "collapsed": false,
    "pycharm": {
     "name": "#%%\n"
    }
   }
  },
  {
   "cell_type": "code",
   "execution_count": 45,
   "metadata": {
    "pycharm": {
     "name": "#%%\n"
    }
   },
   "outputs": [],
   "source": [
    "# query = {\n",
    "#    'key': 'd94ecb038bdf5a7e8137f62df4895f9b',\n",
    "#    'token': '860ad5593b367c7f58b4caa5259eeb72e9b8482ff42aec77aa8bca49802235b2',\n",
    "#     'name': 'AI'\n",
    "# }\n",
    "#\n",
    "# url = \"https://api.trello.com/1/boards/ImnWqCZf/lists\"\n",
    "# response = requests.request(\n",
    "#    \"POST\",\n",
    "#    url,\n",
    "#    params=query\n",
    "# )\n",
    "#\n",
    "# print(response.text)"
   ]
  },
  {
   "cell_type": "code",
   "execution_count": 46,
   "metadata": {
    "pycharm": {
     "name": "#%%\n"
    }
   },
   "outputs": [
    {
     "name": "stdout",
     "output_type": "stream",
     "text": [
      "<Response [200]>\n"
     ]
    }
   ],
   "source": [
    "url = \"https://api.trello.com/1/cards\"\n",
    "\n",
    "query = {\n",
    "   'key': 'd94ecb038bdf5a7e8137f62df4895f9b',\n",
    "   'token': '860ad5593b367c7f58b4caa5259eeb72e9b8482ff42aec77aa8bca49802235b2',\n",
    "   'idList': listID\n",
    "}\n",
    "\n",
    "response = requests.request(\n",
    "   \"POST\",\n",
    "   url,\n",
    "   params=query\n",
    ")\n",
    "\n",
    "print(response)"
   ]
  },
  {
   "cell_type": "code",
   "execution_count": 47,
   "metadata": {
    "pycharm": {
     "name": "#%%\n"
    }
   },
   "outputs": [
    {
     "name": "stdout",
     "output_type": "stream",
     "text": [
      "[{\"id\":\"5fef36d3dc0168159668fbb2\",\"name\":\"AI\",\"closed\":false,\"pos\":8191.875,\"softLimit\":null,\"idBoard\":\"5f8c0026781efa10c56e405b\",\"subscribed\":false},{\"id\":\"5fe85a6acf00561cc1662d7b\",\"name\":\"AI\",\"closed\":false,\"pos\":16383.75,\"softLimit\":null,\"idBoard\":\"5f8c0026781efa10c56e405b\",\"subscribed\":false},{\"id\":\"5f8c003c513e8670e1cea470\",\"name\":\"AI\",\"closed\":false,\"pos\":65535,\"softLimit\":null,\"idBoard\":\"5f8c0026781efa10c56e405b\",\"subscribed\":false},{\"id\":\"5f8c003ed5ab9d105f6cba99\",\"name\":\"MA\",\"closed\":false,\"pos\":131071,\"softLimit\":null,\"idBoard\":\"5f8c0026781efa10c56e405b\",\"subscribed\":false},{\"id\":\"5f8c0041c665f3858e0088c4\",\"name\":\"CTT\",\"closed\":false,\"pos\":196607,\"softLimit\":null,\"idBoard\":\"5f8c0026781efa10c56e405b\",\"subscribed\":false},{\"id\":\"5f8c004a7e91dd091832031c\",\"name\":\"BD\",\"closed\":false,\"pos\":262143,\"softLimit\":null,\"idBoard\":\"5f8c0026781efa10c56e405b\",\"subscribed\":false},{\"id\":\"5f8c004ef95c6a3c7116b924\",\"name\":\"ES\",\"closed\":false,\"pos\":327679,\"softLimit\":null,\"idBoard\":\"5f8c0026781efa10c56e405b\",\"subscribed\":false},{\"id\":\"5f8c005ed2fbae0e4647be45\",\"name\":\"DC\",\"closed\":false,\"pos\":393215,\"softLimit\":null,\"idBoard\":\"5f8c0026781efa10c56e405b\",\"subscribed\":false}]\n",
      "1\n"
     ]
    }
   ],
   "source": [
    "url = \"https://api.trello.com/1/boards/ImnWqCZf/lists\"\n",
    "\n",
    "query = {\n",
    "   'key': 'd94ecb038bdf5a7e8137f62df4895f9b',\n",
    "   'token': '860ad5593b367c7f58b4caa5259eeb72e9b8482ff42aec77aa8bca49802235b2'\n",
    "}\n",
    "\n",
    "response = requests.request(\n",
    "   \"GET\",\n",
    "   url,\n",
    "   params=query\n",
    ")\n",
    "print(response.text)\n",
    "print(1)"
   ]
  },
  {
   "cell_type": "code",
   "execution_count": 50,
   "outputs": [],
   "source": [
    "def merge_arr(A,B):\n",
    "    list(zip(A, B))\n",
    "    lenA = len(A)\n",
    "    lenB = len(B)\n",
    "    # outer = (A if lenA > lenB else B)[slice(lenB - 1 if lenA > lenB else lenA - 1, -1)]\n",
    "    outer = (A if lenA > lenB else B)[slice(lenB if lenA > lenB else lenA, lenA if lenA > lenB else lenB)]\n",
    "    result = [*zip(A, B), *list(map(lambda x: (x,), outer))]\n",
    "    return result"
   ],
   "metadata": {
    "collapsed": false,
    "pycharm": {
     "name": "#%%\n"
    }
   }
  },
  {
   "cell_type": "code",
   "execution_count": 69,
   "outputs": [],
   "source": [
    "def TupletoStringLine(merged_arr):\n",
    "    listulya=[]\n",
    "    for i in merged_arr:\n",
    "        if i.__len__() ==2:\n",
    "            stringulya=(i[0]+' **IMBU PN:** '+i[1])\n",
    "            listulya.append(stringulya)\n",
    "        else:\n",
    "            stringulya = (i[0])\n",
    "            listulya.append(stringulya)\n",
    "    return listulya\n",
    "\n",
    "\n",
    "\n",
    "# def TupletoStringLine(merged_arr):\n",
    "#     stringulya=\"\"\n",
    "#     for i in merged_arr:\n",
    "#         if i.__len__() ==2:\n",
    "#             stringulya=stringulya+(i[0]+' **IMBU PN:** '+i[1]+'\\n')\n",
    "#\n",
    "#         else:\n",
    "#             stringulya = stringulya + (i[0] + '\\n')\n",
    "#     return stringulya\n",
    "#\n",
    "#\n",
    "#\n",
    "\n"
   ],
   "metadata": {
    "collapsed": false,
    "pycharm": {
     "name": "#%%\n"
    }
   }
  },
  {
   "cell_type": "code",
   "execution_count": 132,
   "outputs": [],
   "source": [
    "def createCheckList(cardID, tytle):\n",
    "            # CheckList-----------------------------------------------------------------------------------------------------\n",
    "            url = \"https://api.trello.com/1/cards/%s/checklists\"%cardID\n",
    "\n",
    "            query = {\n",
    "               'key': 'd94ecb038bdf5a7e8137f62df4895f9b',\n",
    "                'token': '860ad5593b367c7f58b4caa5259eeb72e9b8482ff42aec77aa8bca49802235b2',\n",
    "                'name': tytle\n",
    "            }\n",
    "\n",
    "            response = requests.request(\n",
    "               \"POST\",\n",
    "               url,\n",
    "               params=query\n",
    "            )\n",
    "            CheckListID = response.text[7:31]\n",
    "            return CheckListID\n",
    "\n",
    "\n",
    "\n",
    "def InputCheckListItem(CheckListID, text):\n",
    "            url = \"https://api.trello.com/1/checklists/%s/checkItems\"%CheckListID\n",
    "            query = {\n",
    "                 'key': KEY_TRELLO,\n",
    "                 'token': TOKEN_TRELLO,\n",
    "                 'name': text\n",
    "            }\n",
    "            response = requests.request(\n",
    "                \"POST\",\n",
    "                url,\n",
    "                params=query\n",
    "              )\n",
    "def DeleteCheckList(checklistID):\n",
    "    url = \"https://api.trello.com/1/checklists/%s\"%checklistID\n",
    "\n",
    "\n",
    "    query = {\n",
    "       'key': KEY_TRELLO,\n",
    "       'token': TOKEN_TRELLO\n",
    "    }\n",
    "    response = requests.request(\n",
    "       \"DELETE\",\n",
    "       url,\n",
    "        params=query\n",
    "    )\n",
    "    print(response.text)\n"
   ],
   "metadata": {
    "collapsed": false,
    "pycharm": {
     "name": "#%%\n"
    }
   }
  },
  {
   "cell_type": "code",
   "execution_count": 137,
   "metadata": {},
   "outputs": [
    {
     "name": "stdout",
     "output_type": "stream",
     "text": [
      "{\"id\":\"5fef58036cf5645a43f05423\",\"checkItemStates\":[],\"closed\":false,\"dateLastActivity\":\"2021-01-01T17:46:58.052Z\",\"desc\":\"**PO:** 202002039\\n**Project Number:** CO10008 + stock\\n**Item(s):**\\nC100234 **IMBU PN:** 100xPolarTestoilds\\n C100345 **IMBU PN:**  30xAntenna\\n C100654 **IMBU PN:**  45xModem\\n 100xPolarTestoilds\\n 100xPolarTestoilds \\n\\n**Vendor:** Pei Genesis\\n**Date Placed:** CO10008 + stock\\n**Lead Time:** \\n**Date Received:** Y - 08/01/2019\\n\",\"descData\":{\"emoji\":{}},\"dueReminder\":null,\"idBoard\":\"5f8c0026781efa10c56e405b\",\"idList\":\"5fe85a6acf00561cc1662d7b\",\"idMembersVoted\":[],\"idShort\":84,\"idAttachmentCover\":null,\"idLabels\":[],\"manualCoverAttachment\":false,\"name\":\"UPDATED223 202002039 - Pei Genesis - CO10008 + stock\",\"pos\":917504,\"shortLink\":\"7H3eFmS6\",\"isTemplate\":false,\"cardRole\":null,\"dueComplete\":false,\"due\":null,\"email\":null,\"labels\":[],\"shortUrl\":\"https://trello.com/c/7H3eFmS6\",\"start\":null,\"url\":\"https://trello.com/c/7H3eFmS6/84-updated223-202002039-pei-genesis-co10008-stock\",\"cover\":{\"idAttachment\":null,\"color\":null,\"idUploadedBackground\":null,\"size\":\"normal\",\"brightness\":\"light\"},\"idMembers\":[],\"badges\":{\"attachmentsByType\":{\"trello\":{\"board\":0,\"card\":0}},\"location\":false,\"votes\":0,\"viewingMemberVoted\":false,\"subscribed\":true,\"fogbugz\":\"\",\"checkItems\":5,\"checkItemsChecked\":0,\"checkItemsEarliestDue\":null,\"comments\":1,\"attachments\":0,\"description\":true,\"due\":null,\"dueComplete\":false,\"start\":null},\"subscribed\":true,\"idChecklists\":[\"5fef6006f3fc63317a371969\"]}\n",
      "{\"limits\":{}}\n"
     ]
    }
   ],
   "source": [
    "ranges = \"list!Y4:Y1000\" #\n",
    "\n",
    "\n",
    "\n",
    "\n",
    "check_list = read_in_sheet(ranges)\n",
    "for i in range(0,check_list.__len__()):\n",
    "    if check_list[i]==['UPDATE']:\n",
    "        column = i+4\n",
    "        range_for_write = 'list!Y%d' % column\n",
    "        range_for_update_card_id = 'list!Z%d' % column\n",
    "        range_row='list!A%d' %column + ':AA%d'%column\n",
    "        df= read_in_sheet(range_row)\n",
    "        range_for_update_card_id = df[0][25]\n",
    "        parsedE = df[0][4].split(',')\n",
    "        parsedD = df[0][5].split(',')\n",
    "        temp_arr=merge_arr(parsedE,parsedD)\n",
    "        stringulya = \"\"\n",
    "        for x in TupletoStringLine(temp_arr):\n",
    "            stringulya = stringulya+ '\\n' + x\n",
    "\n",
    "        tytle = df[0][0]+' - '+ df[0][6] + ' - '+ df[0][1]\n",
    "        # Trello\n",
    "\n",
    "\n",
    "        url = \"https://api.trello.com/1/cards/%s\"%range_for_update_card_id\n",
    "        headers = {\n",
    "           \"Accept\": \"application/json\"\n",
    "        }\n",
    "\n",
    "        query = {\n",
    "           'key': KEY_TRELLO,\n",
    "           'token': TOKEN_TRELLO,\n",
    "            'name': 'UPDATED223 %s' %tytle,\n",
    "            'desc': \"**PO:** %s\\n\"%df[0][0] +\n",
    "                    \"**Project Number:** %s\\n\"%df[0][1] +\n",
    "                    \"**Item(s):**\"+\n",
    "                    \"%s \\n\"%stringulya  +\n",
    "                    \"\\n**Vendor:** %s\\n\" %df[0][6] +\n",
    "                    \"**Date Placed:** %s\\n\" %df[0][1] +\n",
    "                    \"**Lead Time:** %s\\n\" %df[0][21] +\n",
    "                    \"**Date Received:** %s\\n\" %df[0][20]\n",
    "                    ,\n",
    "            'due': '',\n",
    "            'idList': listID\n",
    "        }\n",
    "\n",
    "        response = requests.request(\n",
    "           \"PUT\",\n",
    "           url,\n",
    "           headers=headers,\n",
    "           params=query\n",
    "        )\n",
    "\n",
    "        print(response.text)\n",
    "        checklistID = response.text[-27:-3]\n",
    "        cardID = response.text[7:31]\n",
    "\n",
    "        # delete checklist\n",
    "        DeleteCheckList(checklistID)\n",
    "\n",
    "        checkListTytle= \"ARRIVAL STATUS\"\n",
    "        CheckListID = createCheckList(cardID, checkListTytle)\n",
    "        for i in TupletoStringLine(temp_arr):\n",
    "            InputCheckListItem(CheckListID, i)\n",
    "\n",
    "        # write_in_sheet(range_for_write, ['COMPLETE'])\n"
   ]
  },
  {
   "cell_type": "code",
   "execution_count": 98,
   "outputs": [
    {
     "name": "stdout",
     "output_type": "stream",
     "text": [
      "<Response [200]>\n"
     ]
    }
   ],
   "source": [
    "check_list = read_in_sheet(ranges)\n",
    "for i in range(0,check_list.__len__()):\n",
    "    if check_list[i]==['FINISH']:\n",
    "        column = i+4\n",
    "        range_for_write = 'list!Y%d' % column\n",
    "        range_for_write_card_id = 'list!Z%d' % column\n",
    "        range_row='list!A%d' %column + ':Y%d'%column\n",
    "        df= read_in_sheet(range_row)\n",
    "        parsedE = df[0][4].split(',')\n",
    "        parsedD = df[0][5].split(',')\n",
    "        temp_arr=merge_arr(parsedE,parsedD)\n",
    "        stringulya = \"\"\n",
    "        for x in TupletoStringLine(temp_arr):\n",
    "            stringulya = stringulya+ '\\n' + x\n",
    "\n",
    "        tytle = df[0][0]+' - '+ df[0][6] + ' - '+ df[0][1]\n",
    "        # Trello\n",
    "        url = \"https://api.trello.com/1/cards\"\n",
    "        query = {\n",
    "           'key': KEY_TRELLO,\n",
    "           'token': TOKEN_TRELLO,\n",
    "            'name': '%s' %tytle,\n",
    "            'desc': \"**PO:** %s\\n\"%df[0][0] +\n",
    "                    \"**Project Number:** %s\\n\"%df[0][1] +\n",
    "                    \"**Item(s):**\"+\n",
    "                    \"%s \\n\"%stringulya  +\n",
    "                    \"\\n**Vendor:** %s\\n\" %df[0][6] +\n",
    "                    \"**Date Placed:** %s\\n\" %df[0][1] +\n",
    "                    \"**Lead Time:** %s\\n\" %df[0][21] +\n",
    "                    \"**Date Received:** %s\\n\" %df[0][20]\n",
    "                    ,\n",
    "            'due': '',\n",
    "            'idList': '5fe85a6acf00561cc1662d7b'\n",
    "        }\n",
    "        response = requests.request(\n",
    "           \"POST\",\n",
    "           url,\n",
    "           params=query\n",
    "        )\n",
    "        print(response.text)\n",
    "\n",
    "        cardID = response.text[7:31]\n",
    "\n",
    "\n",
    "        checkListTytle= \"ARRIVAL STATUS\"\n",
    "        CheckListID = createCheckList(cardID, checkListTytle)\n",
    "        for i in TupletoStringLine(temp_arr):\n",
    "            InputCheckListItem(CheckListID, i)\n",
    "\n",
    "        write_in_sheet(range_for_write, ['COMPLETE'])\n",
    "        write_in_sheet(range_for_write_card_id, [cardID])\n",
    "\n",
    "\n",
    "#\n",
    "#"
   ],
   "metadata": {
    "collapsed": false,
    "pycharm": {
     "name": "#%%\n"
    }
   }
  },
  {
   "cell_type": "code",
   "execution_count": 129,
   "outputs": [],
   "source": [],
   "metadata": {
    "collapsed": false,
    "pycharm": {
     "name": "#%%\n"
    }
   }
  },
  {
   "cell_type": "code",
   "execution_count": 129,
   "outputs": [],
   "source": [],
   "metadata": {
    "collapsed": false,
    "pycharm": {
     "name": "#%%\n"
    }
   }
  }
 ],
 "metadata": {
  "kernelspec": {
   "display_name": "Python 3",
   "language": "python",
   "name": "python3"
  },
  "language_info": {
   "codemirror_mode": {
    "name": "ipython",
    "version": 3
   },
   "file_extension": ".py",
   "mimetype": "text/x-python",
   "name": "python",
   "nbconvert_exporter": "python",
   "pygments_lexer": "ipython3",
   "version": "3.7.3"
  }
 },
 "nbformat": 4,
 "nbformat_minor": 1
}