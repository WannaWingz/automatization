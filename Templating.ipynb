{
 "cells": [
  {
   "cell_type": "code",
   "execution_count": 8,
   "metadata": {
    "collapsed": true
   },
   "outputs": [],
   "source": [
    "import requests"
   ]
  },
  {
   "cell_type": "code",
   "execution_count": 29,
   "outputs": [],
   "source": [
    "boardID='wZXOhRjF'\n",
    "KEY_TRELLO = 'd94ecb038bdf5a7e8137f62df4895f9b'\n",
    "TOKEN_TRELLO = '860ad5593b367c7f58b4caa5259eeb72e9b8482ff42aec77aa8bca49802235b2'"
   ],
   "metadata": {
    "collapsed": false,
    "pycharm": {
     "name": "#%%\n"
    }
   }
  },
  {
   "cell_type": "code",
   "execution_count": 10,
   "outputs": [],
   "source": [
    "Nameing = ['Tasks','READY FOR DEV ART', 'IN PROGERSS ART', 'READY FOR DEV PROGRAMMING',\n",
    "           'IN PROGRESS PROGRAMMING', 'READY FOR DEV BUILD', 'BUGS']\n"
   ],
   "metadata": {
    "collapsed": false,
    "pycharm": {
     "name": "#%%\n"
    }
   }
  },
  {
   "cell_type": "code",
   "execution_count": 49,
   "outputs": [],
   "source": [
    "\n",
    "def makeList(boardID, name):\n",
    "    query = {\n",
    "       'key': KEY_TRELLO,\n",
    "       'token': TOKEN_TRELLO,\n",
    "        'pos':'top',\n",
    "        'name': name\n",
    "    }\n",
    "\n",
    "    url = \"https://api.trello.com/1/boards/%s/lists\"%boardID\n",
    "    response = requests.request(\n",
    "       \"POST\",\n",
    "       url,\n",
    "       params=query\n",
    "    )\n",
    "\n",
    "    return response.text[7:31]"
   ],
   "metadata": {
    "collapsed": false,
    "pycharm": {
     "name": "#%%\n"
    }
   }
  },
  {
   "cell_type": "code",
   "execution_count": 50,
   "outputs": [
    {
     "name": "stdout",
     "output_type": "stream",
     "text": [
      "{6: '5ff6b06dca2e5134220628b0', 5: '5ff6b06d727b9232aea30c8b', 4: '5ff6b06ef3fd486e1f7587ec', 3: '5ff6b06f1097a562073d4987', 2: '5ff6b0704287a3800fcd7e60', 1: '5ff6b070c58f0d2a570ccb2b', 0: '5ff6b07122b32c5118666a8f'}\n"
     ]
    }
   ],
   "source": [
    "DictOflistID={}\n",
    "for i in range(len(Nameing)-1,-1,-1):\n",
    "    listID = makeList(boardID, Nameing[i])\n",
    "    DictOflistID.update({i:listID})\n",
    "print(DictOflistID)"
   ],
   "metadata": {
    "collapsed": false,
    "pycharm": {
     "name": "#%%\n"
    }
   }
  },
  {
   "cell_type": "code",
   "execution_count": 41,
   "outputs": [
    {
     "name": "stdout",
     "output_type": "stream",
     "text": [
      "BUGS\n",
      "READY FOR DEV BUILD\n",
      "IN PROGRESS PROGRAMMING\n",
      "READY FOR DEV PROGRAMMING\n",
      "IN PROGERSS ART\n",
      "READY FOR DEV ART\n",
      "Tasks\n"
     ]
    }
   ],
   "source": [],
   "metadata": {
    "collapsed": false,
    "pycharm": {
     "name": "#%%\n"
    }
   }
  }
 ],
 "metadata": {
  "kernelspec": {
   "display_name": "Python 3",
   "language": "python",
   "name": "python3"
  },
  "language_info": {
   "codemirror_mode": {
    "name": "ipython",
    "version": 2
   },
   "file_extension": ".py",
   "mimetype": "text/x-python",
   "name": "python",
   "nbconvert_exporter": "python",
   "pygments_lexer": "ipython2",
   "version": "2.7.6"
  }
 },
 "nbformat": 4,
 "nbformat_minor": 0
}