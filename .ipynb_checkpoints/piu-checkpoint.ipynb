{
 "cells": [
  {
   "cell_type": "code",
   "execution_count": 1,
   "metadata": {},
   "outputs": [],
   "source": [
    "# Создаем лист\n",
    "import datetime\n",
    "import httplib2\n",
    "import apiclient.discovery\n",
    "from oauth2client.service_account import ServiceAccountCredentials\n",
    "\n",
    "CREDENTIALS_FILE = 'spat-299221-09b896eba28f.json'  # Имя файла с закрытым ключом, вы должны подставить свое\n",
    "\n",
    "# Читаем ключи из файла\n",
    "credentials = ServiceAccountCredentials.from_json_keyfile_name(CREDENTIALS_FILE, ['https://www.googleapis.com/auth/spreadsheets', 'https://www.googleapis.com/auth/drive'])\n",
    "\n",
    "httpAuth = credentials.authorize(httplib2.Http()) # Авторизуемся в системе\n",
    "service = apiclient.discovery.build('sheets', 'v4', http = httpAuth) # Выбираем работу с таблицами и 4 версию API\n",
    "#\n",
    "# spreadsheet = service.spreadsheets().create(body = {\n",
    "#     'properties': {'title': 'Первый тестовый документ', 'locale': 'ru_RU'},\n",
    "#     'sheets': [{'properties': {'sheetType': 'GRID',\n",
    "#                                'sheetId': 0,\n",
    "#                                'title': 'Лист номер один',\n",
    "#                                'gridProperties': {'rowCount': 100, 'columnCount': 15}}}]\n",
    "# }).execute()\n",
    "# spreadsheetId = spreadsheet['spreadsheetId'] # сохраняем идентификатор файла\n",
    "# print('https://docs.google.com/spreadsheets/d/' + spreadsheetId)"
   ]
  },
  {
   "cell_type": "code",
   "execution_count": 2,
   "metadata": {
    "pycharm": {
     "name": "#%%\n"
    }
   },
   "outputs": [],
   "source": [
    "spreadsheetId = '194JQ48WKfbGt0NZjyCRHLUXEvaMvtxQ1lWv05NZlyR8'"
   ]
  },
  {
   "cell_type": "code",
   "execution_count": 3,
   "metadata": {
    "pycharm": {
     "name": "#%%\n"
    }
   },
   "outputs": [],
   "source": [
    "#даем доступ\n",
    "driveService = apiclient.discovery.build('drive', 'v3', http = httpAuth) # Выбираем работу с Google Drive и 3 версию API\n",
    "access = driveService.permissions().create(\n",
    "    fileId = spreadsheetId,\n",
    "    body = {'type': 'user', 'role': 'writer', 'emailAddress': 'kiborg904@gmail.com'},  # Открываем доступ на редактирование\n",
    "    fields = 'id'\n",
    ").execute()"
   ]
  },
  {
   "cell_type": "code",
   "execution_count": 4,
   "metadata": {
    "pycharm": {
     "name": "#%%\n"
    }
   },
   "outputs": [
    {
     "name": "stdout",
     "output_type": "stream",
     "text": [
      "[['2'], ['3'], ['4'], ['5'], [], [], [], ['9'], ['10']]\n"
     ]
    }
   ],
   "source": [
    "#так можно читать только нужно что бы в клетке было хоть какое то значение\n",
    "ranges = [\"Лист номер один!A2:A10\"] #\n",
    "\n",
    "results = service.spreadsheets().values().batchGet(spreadsheetId = spreadsheetId,\n",
    "                                     ranges = ranges,\n",
    "                                     valueRenderOption = 'FORMATTED_VALUE',\n",
    "                                     dateTimeRenderOption = 'FORMATTED_STRING').execute()\n",
    "sheet_values = results['valueRanges'][0]['values']\n",
    "print(sheet_values)"
   ]
  },
  {
   "cell_type": "code",
   "execution_count": 5,
   "metadata": {
    "pycharm": {
     "name": "#%%\n"
    }
   },
   "outputs": [],
   "source": [
    "ranges = \"Лист номер один!A2:A10\" #\n",
    "def read_in_sheet(ranges):\n",
    "\n",
    "    results = service.spreadsheets().values().batchGet(spreadsheetId = spreadsheetId,\n",
    "                                         ranges =[ranges],\n",
    "                                         valueRenderOption = 'FORMATTED_VALUE',\n",
    "                                         dateTimeRenderOption = 'FORMATTED_STRING').execute()\n",
    "    sheet_values = results['valueRanges'][0]['values']\n",
    "    return sheet_values\n",
    "    print(sheet_values)"
   ]
  },
  {
   "cell_type": "code",
   "execution_count": 6,
   "metadata": {
    "pycharm": {
     "name": "#%%\n"
    }
   },
   "outputs": [],
   "source": [
    "#так можно записывать статус итд\n",
    "#\n",
    "# results = service.spreadsheets().values().batchUpdate(spreadsheetId = spreadsheetId, body = {\n",
    "#     \"valueInputOption\": \"USER_ENTERED\", # Данные воспринимаются, как вводимые пользователем (считается значение формул)\n",
    "#     \"data\": [\n",
    "#         {\"range\": \"Лист номер один!I1\",\n",
    "#          \"majorDimension\": \"ROWS\",     # Сначала заполнять строки, затем столбцы\n",
    "#          \"values\": [['10']]}\n",
    "#     ]\n",
    "# }).execute()"
   ]
  },
  {
   "cell_type": "code",
   "execution_count": 7,
   "metadata": {
    "pycharm": {
     "name": "#%%\n"
    }
   },
   "outputs": [],
   "source": [
    "#так можно записывать статус итд\n",
    "\n",
    "def write_in_sheet(ranges, v):\n",
    "    results = service.spreadsheets().values().batchUpdate(spreadsheetId = spreadsheetId, body = {\n",
    "        \"valueInputOption\": \"USER_ENTERED\", # Данные воспринимаются, как вводимые пользователем (считается значение формул)\n",
    "        \"data\": [\n",
    "            {\"range\": ranges,\n",
    "             \"majorDimension\": \"ROWS\",     # Сначала заполнять строки, затем столбцы\n",
    "             \"values\": [v]}\n",
    "        ]\n",
    "    }).execute()\n"
   ]
  },
  {
   "cell_type": "code",
   "execution_count": 8,
   "metadata": {
    "pycharm": {
     "name": "#%%\n"
    }
   },
   "outputs": [],
   "source": [
    "import pandas as pd\n",
    "import numpy as np"
   ]
  },
  {
   "cell_type": "code",
   "execution_count": 9,
   "metadata": {
    "pycharm": {
     "name": "#%%\n"
    }
   },
   "outputs": [],
   "source": [
    "values=[\"11\"]\n",
    "ranges = \"Лист номер один!I1\"\n",
    "\n",
    "write_in_sheet(ranges, values)\n"
   ]
  },
  {
   "cell_type": "code",
   "execution_count": 10,
   "metadata": {
    "pycharm": {
     "name": "#%%\n"
    }
   },
   "outputs": [
    {
     "name": "stdout",
     "output_type": "stream",
     "text": [
      "[['11']]\n"
     ]
    }
   ],
   "source": [
    "print(read_in_sheet(ranges))"
   ]
  },
  {
   "cell_type": "code",
   "execution_count": 11,
   "metadata": {
    "pycharm": {
     "name": "#%%\n"
    }
   },
   "outputs": [],
   "source": [
    "import trello\n",
    "from trello import TrelloApi\n",
    "\n",
    "KEY =\"d94ecb038bdf5a7e8137f62df4895f9b\"\n",
    "TOKEN =\"860ad5593b367c7f58b4caa5259eeb72e9b8482ff42aec77aa8bca49802235b2\"\n"
   ]
  },
  {
   "cell_type": "code",
   "execution_count": 12,
   "metadata": {
    "pycharm": {
     "name": "#%%\n"
    }
   },
   "outputs": [],
   "source": [
    "# trello.get_token_url('My App', expires='30days', write_access=True)\n",
    "    # 'https://trello.com/1/authorize?key=TRELLO_APP_KEY&name=My+App&expiration=30days&response_type=token&scope=read,write'"
   ]
  },
  {
   "cell_type": "code",
   "execution_count": 13,
   "metadata": {
    "pycharm": {
     "name": "#%%\n"
    }
   },
   "outputs": [],
   "source": [
    "\n",
    "query = {\n",
    "   'key': 'd94ecb038bdf5a7e8137f62df4895f9b',\n",
    "   'token': '860ad5593b367c7f58b4caa5259eeb72e9b8482ff42aec77aa8bca49802235b2'\n",
    "}"
   ]
  },
  {
   "cell_type": "code",
   "execution_count": 14,
   "metadata": {
    "pycharm": {
     "name": "#%%\n"
    }
   },
   "outputs": [
    {
     "name": "stdout",
     "output_type": "stream",
     "text": [
      "{\n",
      "    \"closed\": false,\n",
      "    \"desc\": \"\",\n",
      "    \"descData\": null,\n",
      "    \"id\": \"5f8c0026781efa10c56e405b\",\n",
      "    \"idEnterprise\": null,\n",
      "    \"idOrganization\": \"5f8c02603b8ae031f2803de8\",\n",
      "    \"labelNames\": {\n",
      "        \"black\": \"\",\n",
      "        \"blue\": \"\",\n",
      "        \"green\": \"\",\n",
      "        \"lime\": \"\",\n",
      "        \"orange\": \"\",\n",
      "        \"pink\": \"\",\n",
      "        \"purple\": \"\",\n",
      "        \"red\": \"\",\n",
      "        \"sky\": \"\",\n",
      "        \"yellow\": \"\"\n",
      "    },\n",
      "    \"name\": \"Seniors\",\n",
      "    \"pinned\": false,\n",
      "    \"prefs\": {\n",
      "        \"background\": \"sky\",\n",
      "        \"backgroundBottomColor\": \"#00AECC\",\n",
      "        \"backgroundBrightness\": \"dark\",\n",
      "        \"backgroundColor\": \"#00AECC\",\n",
      "        \"backgroundImage\": null,\n",
      "        \"backgroundImageScaled\": null,\n",
      "        \"backgroundTile\": false,\n",
      "        \"backgroundTopColor\": \"#00AECC\",\n",
      "        \"calendarFeedEnabled\": false,\n",
      "        \"canBeEnterprise\": true,\n",
      "        \"canBeOrg\": true,\n",
      "        \"canBePrivate\": true,\n",
      "        \"canBePublic\": true,\n",
      "        \"canInvite\": true,\n",
      "        \"cardAging\": \"regular\",\n",
      "        \"cardCovers\": true,\n",
      "        \"comments\": \"members\",\n",
      "        \"hideVotes\": false,\n",
      "        \"invitations\": \"members\",\n",
      "        \"isTemplate\": false,\n",
      "        \"permissionLevel\": \"private\",\n",
      "        \"selfJoin\": false,\n",
      "        \"voting\": \"disabled\"\n",
      "    },\n",
      "    \"shortUrl\": \"https://trello.com/b/ImnWqCZf\",\n",
      "    \"url\": \"https://trello.com/b/ImnWqCZf/seniors\"\n",
      "}\n"
     ]
    }
   ],
   "source": [
    "import requests\n",
    "import json\n",
    "\n",
    "url = \"https://api.trello.com/1/boards/ImnWqCZf\"\n",
    "\n",
    "headers = {\n",
    "   \"Accept\": \"application/json\"\n",
    "}\n",
    "\n",
    "\n",
    "response = requests.request(\n",
    "   \"GET\",\n",
    "   url,\n",
    "   headers=headers,\n",
    "   params=query\n",
    ")\n",
    "\n",
    "print(json.dumps(json.loads(response.text), sort_keys=True, indent=4, separators=(\",\", \": \")))"
   ]
  },
  {
   "cell_type": "code",
   "execution_count": 15,
   "metadata": {
    "pycharm": {
     "name": "#%%\n"
    }
   },
   "outputs": [
    {
     "name": "stdout",
     "output_type": "stream",
     "text": [
      "{\"id\":\"5fe85a6acf00561cc1662d7b\",\"name\":\"AI\",\"closed\":false,\"pos\":16383.75,\"idBoard\":\"5f8c0026781efa10c56e405b\",\"limits\":{}}\n"
     ]
    }
   ],
   "source": [
    "query = {\n",
    "   'key': 'd94ecb038bdf5a7e8137f62df4895f9b',\n",
    "   'token': '860ad5593b367c7f58b4caa5259eeb72e9b8482ff42aec77aa8bca49802235b2',\n",
    "    'name': 'AI'\n",
    "}\n",
    "listID=  \"5fe84405c27898590f18649f\"\n",
    "\n",
    "url = \"https://api.trello.com/1/boards/ImnWqCZf/lists\"\n",
    "response = requests.request(\n",
    "   \"POST\",\n",
    "   url,\n",
    "   params=query\n",
    ")\n",
    "\n",
    "print(response.text)"
   ]
  },
  {
   "cell_type": "code",
   "execution_count": 16,
   "metadata": {
    "pycharm": {
     "name": "#%%\n"
    }
   },
   "outputs": [
    {
     "name": "stdout",
     "output_type": "stream",
     "text": [
      "<Response [200]>\n"
     ]
    }
   ],
   "source": [
    "url = \"https://api.trello.com/1/cards\"\n",
    "\n",
    "query = {\n",
    "   'key': 'd94ecb038bdf5a7e8137f62df4895f9b',\n",
    "   'token': '860ad5593b367c7f58b4caa5259eeb72e9b8482ff42aec77aa8bca49802235b2',\n",
    "   'idList': '5fe84405c27898590f18649f'\n",
    "}\n",
    "\n",
    "response = requests.request(\n",
    "   \"POST\",\n",
    "   url,\n",
    "   params=query\n",
    ")\n",
    "\n",
    "print(response)"
   ]
  },
  {
   "cell_type": "code",
   "execution_count": 17,
   "metadata": {
    "pycharm": {
     "name": "#%%\n"
    }
   },
   "outputs": [
    {
     "name": "stdout",
     "output_type": "stream",
     "text": [
      "[{\"id\":\"5fe85a6acf00561cc1662d7b\",\"name\":\"AI\",\"closed\":false,\"pos\":16383.75,\"softLimit\":null,\"idBoard\":\"5f8c0026781efa10c56e405b\",\"subscribed\":false},{\"id\":\"5fe8588cc060de32040899be\",\"name\":\"AI\",\"closed\":false,\"pos\":32767.5,\"softLimit\":null,\"idBoard\":\"5f8c0026781efa10c56e405b\",\"subscribed\":false},{\"id\":\"5f8c003c513e8670e1cea470\",\"name\":\"AI\",\"closed\":false,\"pos\":65535,\"softLimit\":null,\"idBoard\":\"5f8c0026781efa10c56e405b\",\"subscribed\":false},{\"id\":\"5f8c003ed5ab9d105f6cba99\",\"name\":\"MA\",\"closed\":false,\"pos\":131071,\"softLimit\":null,\"idBoard\":\"5f8c0026781efa10c56e405b\",\"subscribed\":false},{\"id\":\"5f8c0041c665f3858e0088c4\",\"name\":\"CTT\",\"closed\":false,\"pos\":196607,\"softLimit\":null,\"idBoard\":\"5f8c0026781efa10c56e405b\",\"subscribed\":false},{\"id\":\"5f8c004a7e91dd091832031c\",\"name\":\"BD\",\"closed\":false,\"pos\":262143,\"softLimit\":null,\"idBoard\":\"5f8c0026781efa10c56e405b\",\"subscribed\":false},{\"id\":\"5f8c004ef95c6a3c7116b924\",\"name\":\"ES\",\"closed\":false,\"pos\":327679,\"softLimit\":null,\"idBoard\":\"5f8c0026781efa10c56e405b\",\"subscribed\":false},{\"id\":\"5f8c005ed2fbae0e4647be45\",\"name\":\"DC\",\"closed\":false,\"pos\":393215,\"softLimit\":null,\"idBoard\":\"5f8c0026781efa10c56e405b\",\"subscribed\":false}]\n",
      "1\n"
     ]
    }
   ],
   "source": [
    "url = \"https://api.trello.com/1/boards/ImnWqCZf/lists\"\n",
    "\n",
    "query = {\n",
    "   'key': 'd94ecb038bdf5a7e8137f62df4895f9b',\n",
    "   'token': '860ad5593b367c7f58b4caa5259eeb72e9b8482ff42aec77aa8bca49802235b2'\n",
    "}\n",
    "\n",
    "response = requests.request(\n",
    "   \"GET\",\n",
    "   url,\n",
    "   params=query\n",
    ")\n",
    "print(response.text)\n",
    "print(1)"
   ]
  },
  {
   "cell_type": "code",
   "execution_count": 18,
   "metadata": {
    "pycharm": {
     "name": "#%%\n"
    }
   },
   "outputs": [
    {
     "name": "stdout",
     "output_type": "stream",
     "text": [
      "1\n"
     ]
    }
   ],
   "source": [
    "print(1)"
   ]
  }
 ],
 "metadata": {
  "kernelspec": {
   "display_name": "Python 3",
   "language": "python",
   "name": "python3"
  },
  "language_info": {
   "codemirror_mode": {
    "name": "ipython",
    "version": 3
   },
   "file_extension": ".py",
   "mimetype": "text/x-python",
   "name": "python",
   "nbconvert_exporter": "python",
   "pygments_lexer": "ipython3",
   "version": "3.7.3"
  }
 },
 "nbformat": 4,
 "nbformat_minor": 1
}
