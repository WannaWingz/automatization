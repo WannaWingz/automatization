{
 "cells": [
  {
   "cell_type": "code",
   "execution_count": 1,
   "metadata": {
    "collapsed": true
   },
   "outputs": [],
   "source": [
    "# Copyright 2018 Google LLC\n",
    "#\n",
    "# Licensed under the Apache License, Version 2.0 (the \"License\");\n",
    "# you may not use this file except in compliance with the License.\n",
    "# You may obtain a copy of the License at\n",
    "#\n",
    "#     http://www.apache.org/licenses/LICENSE-2.0\n",
    "#\n",
    "# Unless required by applicable law or agreed to in writing, software\n",
    "# distributed under the License is distributed on an \"AS IS\" BASIS,\n",
    "# WITHOUT WARRANTIES OR CONDITIONS OF ANY KIND, either express or implied.\n",
    "# See the License for the specific language governing permissions and\n",
    "# limitations under the License."
   ]
  },
  {
   "cell_type": "code",
   "execution_count": 16,
   "outputs": [],
   "source": [
    "# [START sheets_quickstart]\n",
    "from __future__ import print_function\n",
    "import pickle\n",
    "import os.path\n",
    "from googleapiclient.discovery import build\n",
    "from google_auth_oauthlib.flow import InstalledAppFlow\n",
    "from google.auth.transport.requests import Request\n",
    "\n",
    "# If modifying these scopes, delete the file token.pickle.\n",
    "SCOPES = ['https://www.googleapis.com/auth/spreadsheets.readonly']\n",
    "\n",
    "# The ID and range of a sample spreadsheet.\n",
    "SAMPLE_SPREADSHEET_ID = 'v1Z3tMi92X0Ktw5IVHI3ZwLfo9FCmbGRBE'\n",
    "SAMPLE_RANGE_NAME = 'Class Data!A2:E'"
   ],
   "metadata": {
    "collapsed": false,
    "pycharm": {
     "name": "#%%\n"
    }
   }
  },
  {
   "cell_type": "code",
   "execution_count": 17,
   "outputs": [],
   "source": [
    "def main():\n",
    "    \"\"\"Shows basic usage of the Sheets API.\n",
    "    Prints values from a sample spreadsheet.\n",
    "    \"\"\"\n",
    "    creds = None\n",
    "    # The file token.pickle stores the user's access and refresh tokens, and is\n",
    "    # created automatically when the authorization flow completes for the first\n",
    "    # time.\n",
    "    if os.path.exists('token.pickle'):\n",
    "        with open('token.pickle', 'rb') as token:\n",
    "            creds = pickle.load(token)\n",
    "    # If there are no (valid) credentials available, let the user log in.\n",
    "    if not creds or not creds.valid:\n",
    "        if creds and creds.expired and creds.refresh_token:\n",
    "            creds.refresh(Request())\n",
    "        else:\n",
    "            flow = InstalledAppFlow.from_client_secrets_file(\n",
    "                'credentials.json', SCOPES)\n",
    "            creds = flow.run_local_server(port=0)\n",
    "        # Save the credentials for the next run\n",
    "        with open('token.pickle', 'wb') as token:\n",
    "            pickle.dump(creds, token)\n",
    "\n",
    "    service = build('sheets', 'v4', credentials=creds)\n",
    "\n",
    "    # Call the Sheets API\n",
    "    sheet = service.spreadsheets()\n",
    "    result = sheet.values().get(spreadsheetId=SAMPLE_SPREADSHEET_ID,\n",
    "                                range=SAMPLE_RANGE_NAME).execute()\n",
    "    values = result.get('values', [])\n",
    "\n",
    "    if not values:\n",
    "        print('No data found.')\n",
    "    else:\n",
    "        print('Name, Major:')\n",
    "        for row in values:\n",
    "            # Print columns A and E, which correspond to indices 0 and 4.\n",
    "            print('%s, %s' % (row[0], row[4]))"
   ],
   "metadata": {
    "collapsed": false,
    "pycharm": {
     "name": "#%%\n"
    }
   }
  },
  {
   "cell_type": "code",
   "execution_count": 18,
   "outputs": [
    {
     "ename": "HttpError",
     "evalue": "<HttpError 404 when requesting https://sheets.googleapis.com/v4/spreadsheets/v1Z3tMi92X0Ktw5IVHI3ZwLfo9FCmbGRBE/values/Class%20Data%21A2%3AE?alt=json returned \"Requested entity was not found.\". Details: \"Requested entity was not found.\">",
     "output_type": "error",
     "traceback": [
      "\u001B[1;31m---------------------------------------------------------------------------\u001B[0m",
      "\u001B[1;31mHttpError\u001B[0m                                 Traceback (most recent call last)",
      "\u001B[1;32m<ipython-input-18-e1f48b3241a7>\u001B[0m in \u001B[0;36m<module>\u001B[1;34m\u001B[0m\n\u001B[1;32m----> 1\u001B[1;33m \u001B[0mmain\u001B[0m\u001B[1;33m(\u001B[0m\u001B[1;33m)\u001B[0m\u001B[1;33m\u001B[0m\u001B[1;33m\u001B[0m\u001B[0m\n\u001B[0m\u001B[0;32m      2\u001B[0m \u001B[1;31m# [END sheets_quickstart]\u001B[0m\u001B[1;33m\u001B[0m\u001B[1;33m\u001B[0m\u001B[1;33m\u001B[0m\u001B[0m\n\u001B[0;32m      3\u001B[0m \u001B[1;33m\u001B[0m\u001B[0m\n",
      "\u001B[1;32m<ipython-input-17-36bf6872b844>\u001B[0m in \u001B[0;36mmain\u001B[1;34m()\u001B[0m\n\u001B[0;32m     27\u001B[0m     \u001B[0msheet\u001B[0m \u001B[1;33m=\u001B[0m \u001B[0mservice\u001B[0m\u001B[1;33m.\u001B[0m\u001B[0mspreadsheets\u001B[0m\u001B[1;33m(\u001B[0m\u001B[1;33m)\u001B[0m\u001B[1;33m\u001B[0m\u001B[1;33m\u001B[0m\u001B[0m\n\u001B[0;32m     28\u001B[0m     result = sheet.values().get(spreadsheetId=SAMPLE_SPREADSHEET_ID,\n\u001B[1;32m---> 29\u001B[1;33m                                 range=SAMPLE_RANGE_NAME).execute()\n\u001B[0m\u001B[0;32m     30\u001B[0m     \u001B[0mvalues\u001B[0m \u001B[1;33m=\u001B[0m \u001B[0mresult\u001B[0m\u001B[1;33m.\u001B[0m\u001B[0mget\u001B[0m\u001B[1;33m(\u001B[0m\u001B[1;34m'values'\u001B[0m\u001B[1;33m,\u001B[0m \u001B[1;33m[\u001B[0m\u001B[1;33m]\u001B[0m\u001B[1;33m)\u001B[0m\u001B[1;33m\u001B[0m\u001B[1;33m\u001B[0m\u001B[0m\n\u001B[0;32m     31\u001B[0m \u001B[1;33m\u001B[0m\u001B[0m\n",
      "\u001B[1;32mc:\\users\\uydi\\appdata\\local\\programs\\python\\python37-32\\lib\\site-packages\\googleapiclient\\_helpers.py\u001B[0m in \u001B[0;36mpositional_wrapper\u001B[1;34m(*args, **kwargs)\u001B[0m\n\u001B[0;32m    132\u001B[0m                 \u001B[1;32melif\u001B[0m \u001B[0mpositional_parameters_enforcement\u001B[0m \u001B[1;33m==\u001B[0m \u001B[0mPOSITIONAL_WARNING\u001B[0m\u001B[1;33m:\u001B[0m\u001B[1;33m\u001B[0m\u001B[1;33m\u001B[0m\u001B[0m\n\u001B[0;32m    133\u001B[0m                     \u001B[0mlogger\u001B[0m\u001B[1;33m.\u001B[0m\u001B[0mwarning\u001B[0m\u001B[1;33m(\u001B[0m\u001B[0mmessage\u001B[0m\u001B[1;33m)\u001B[0m\u001B[1;33m\u001B[0m\u001B[1;33m\u001B[0m\u001B[0m\n\u001B[1;32m--> 134\u001B[1;33m             \u001B[1;32mreturn\u001B[0m \u001B[0mwrapped\u001B[0m\u001B[1;33m(\u001B[0m\u001B[1;33m*\u001B[0m\u001B[0margs\u001B[0m\u001B[1;33m,\u001B[0m \u001B[1;33m**\u001B[0m\u001B[0mkwargs\u001B[0m\u001B[1;33m)\u001B[0m\u001B[1;33m\u001B[0m\u001B[1;33m\u001B[0m\u001B[0m\n\u001B[0m\u001B[0;32m    135\u001B[0m \u001B[1;33m\u001B[0m\u001B[0m\n\u001B[0;32m    136\u001B[0m         \u001B[1;32mreturn\u001B[0m \u001B[0mpositional_wrapper\u001B[0m\u001B[1;33m\u001B[0m\u001B[1;33m\u001B[0m\u001B[0m\n",
      "\u001B[1;32mc:\\users\\uydi\\appdata\\local\\programs\\python\\python37-32\\lib\\site-packages\\googleapiclient\\http.py\u001B[0m in \u001B[0;36mexecute\u001B[1;34m(self, http, num_retries)\u001B[0m\n\u001B[0;32m    913\u001B[0m             \u001B[0mcallback\u001B[0m\u001B[1;33m(\u001B[0m\u001B[0mresp\u001B[0m\u001B[1;33m)\u001B[0m\u001B[1;33m\u001B[0m\u001B[1;33m\u001B[0m\u001B[0m\n\u001B[0;32m    914\u001B[0m         \u001B[1;32mif\u001B[0m \u001B[0mresp\u001B[0m\u001B[1;33m.\u001B[0m\u001B[0mstatus\u001B[0m \u001B[1;33m>=\u001B[0m \u001B[1;36m300\u001B[0m\u001B[1;33m:\u001B[0m\u001B[1;33m\u001B[0m\u001B[1;33m\u001B[0m\u001B[0m\n\u001B[1;32m--> 915\u001B[1;33m             \u001B[1;32mraise\u001B[0m \u001B[0mHttpError\u001B[0m\u001B[1;33m(\u001B[0m\u001B[0mresp\u001B[0m\u001B[1;33m,\u001B[0m \u001B[0mcontent\u001B[0m\u001B[1;33m,\u001B[0m \u001B[0muri\u001B[0m\u001B[1;33m=\u001B[0m\u001B[0mself\u001B[0m\u001B[1;33m.\u001B[0m\u001B[0muri\u001B[0m\u001B[1;33m)\u001B[0m\u001B[1;33m\u001B[0m\u001B[1;33m\u001B[0m\u001B[0m\n\u001B[0m\u001B[0;32m    916\u001B[0m         \u001B[1;32mreturn\u001B[0m \u001B[0mself\u001B[0m\u001B[1;33m.\u001B[0m\u001B[0mpostproc\u001B[0m\u001B[1;33m(\u001B[0m\u001B[0mresp\u001B[0m\u001B[1;33m,\u001B[0m \u001B[0mcontent\u001B[0m\u001B[1;33m)\u001B[0m\u001B[1;33m\u001B[0m\u001B[1;33m\u001B[0m\u001B[0m\n\u001B[0;32m    917\u001B[0m \u001B[1;33m\u001B[0m\u001B[0m\n",
      "\u001B[1;31mHttpError\u001B[0m: <HttpError 404 when requesting https://sheets.googleapis.com/v4/spreadsheets/v1Z3tMi92X0Ktw5IVHI3ZwLfo9FCmbGRBE/values/Class%20Data%21A2%3AE?alt=json returned \"Requested entity was not found.\". Details: \"Requested entity was not found.\">"
     ]
    }
   ],
   "source": [
    "main()\n",
    "# [END sheets_quickstart]"
   ],
   "metadata": {
    "collapsed": false,
    "pycharm": {
     "name": "#%%\n"
    }
   }
  },
  {
   "cell_type": "code",
   "execution_count": 5,
   "outputs": [],
   "source": [
    "import httplib2\n",
    "import apiclient.discovery\n",
    "from oauth2client.service_account import ServiceAccountCredentials"
   ],
   "metadata": {
    "collapsed": false,
    "pycharm": {
     "name": "#%%\n"
    }
   }
  },
  {
   "cell_type": "code",
   "execution_count": 6,
   "outputs": [
    {
     "name": "stdout",
     "output_type": "stream",
     "text": [
      "https://docs.google.com/spreadsheets/d/1SHDaSLDD-v1Z3tMi92X0Ktw5IVHI3ZwLfo9FCmbGRBE\n"
     ]
    }
   ],
   "source": [
    "CREDENTIALS_FILE = 'spat-299221-09b896eba28f.json'  # Имя файла с закрытым ключом, вы должны подставить свое\n",
    "\n",
    "# Читаем ключи из файла\n",
    "credentials = ServiceAccountCredentials.from_json_keyfile_name(CREDENTIALS_FILE, ['https://www.googleapis.com/auth/spreadsheets', 'https://www.googleapis.com/auth/drive'])\n",
    "\n",
    "httpAuth = credentials.authorize(httplib2.Http()) # Авторизуемся в системе\n",
    "service = apiclient.discovery.build('sheets', 'v4', http = httpAuth) # Выбираем работу с таблицами и 4 версию API\n",
    "\n",
    "spreadsheet = service.spreadsheets().create(body = {\n",
    "    'properties': {'title': 'Первый тестовый документ', 'locale': 'ru_RU'},\n",
    "    'sheets': [{'properties': {'sheetType': 'GRID',\n",
    "                               'sheetId': 0,\n",
    "                               'title': 'Лист номер один',\n",
    "                               'gridProperties': {'rowCount': 100, 'columnCount': 15}}}]\n",
    "}).execute()\n",
    "spreadsheetId = spreadsheet['spreadsheetId'] # сохраняем идентификатор файла\n",
    "print('https://docs.google.com/spreadsheets/d/' + spreadsheetId)"
   ],
   "metadata": {
    "collapsed": false,
    "pycharm": {
     "name": "#%%\n"
    }
   }
  },
  {
   "cell_type": "code",
   "execution_count": 7,
   "outputs": [],
   "source": [
    "driveService = apiclient.discovery.build('drive', 'v3', http = httpAuth) # Выбираем работу с Google Drive и 3 версию API\n",
    "access = driveService.permissions().create(\n",
    "    fileId = spreadsheetId,\n",
    "    body = {'type': 'user', 'role': 'writer', 'emailAddress': 'kiborg904@gmail.com'},  # Открываем доступ на редактирование\n",
    "    fields = 'id'\n",
    ").execute()\n"
   ],
   "metadata": {
    "collapsed": false,
    "pycharm": {
     "name": "#%%\n"
    }
   }
  },
  {
   "cell_type": "code",
   "execution_count": 8,
   "outputs": [],
   "source": [
    "# Добавление листа\n",
    "results_read = service.spreadsheets().batchUpdate(\n",
    "    spreadsheetId = spreadsheetId,\n",
    "    body =\n",
    "{\n",
    "  \"requests\": [\n",
    "    {\n",
    "      \"addSheet\": {\n",
    "        \"properties\": {\n",
    "          \"title\": \"Еще один лист\",\n",
    "          \"gridProperties\": {\n",
    "            \"rowCount\": 20,\n",
    "            \"columnCount\": 12\n",
    "          }\n",
    "        }\n",
    "      }\n",
    "    }\n",
    "  ]\n",
    "}).execute()"
   ],
   "metadata": {
    "collapsed": false,
    "pycharm": {
     "name": "#%%\n"
    }
   }
  },
  {
   "cell_type": "code",
   "execution_count": 9,
   "outputs": [
    {
     "name": "stdout",
     "output_type": "stream",
     "text": [
      "0 Лист номер один\n",
      "2038926730 Еще один лист\n",
      "Мы будем использовать лист с Id =  0\n"
     ]
    }
   ],
   "source": [
    "# Получаем список листов, их Id и название\n",
    "spreadsheet = service.spreadsheets().get(spreadsheetId = spreadsheetId).execute()\n",
    "sheetList = spreadsheet.get('sheets')\n",
    "for sheet in sheetList:\n",
    "    print(sheet['properties']['sheetId'], sheet['properties']['title'])\n",
    "\n",
    "sheetId = sheetList[0]['properties']['sheetId']\n",
    "\n",
    "print('Мы будем использовать лист с Id = ', sheetId)"
   ],
   "metadata": {
    "collapsed": false,
    "pycharm": {
     "name": "#%%\n"
    }
   }
  },
  {
   "cell_type": "code",
   "execution_count": 10,
   "outputs": [],
   "source": [
    "results = service.spreadsheets().values().batchUpdate(spreadsheetId = spreadsheetId, body = {\n",
    "    \"valueInputOption\": \"USER_ENTERED\", # Данные воспринимаются, как вводимые пользователем (считается значение формул)\n",
    "    \"data\": [\n",
    "        {\"range\": \"Лист номер один!B2:D5\",\n",
    "         \"majorDimension\": \"ROWS\",     # Сначала заполнять строки, затем столбцы\n",
    "         \"values\": [\n",
    "                    [\"Ячейка B2\", \"Ячейка C2\", \"Ячейка D2\"], # Заполняем первую строку\n",
    "                    ['25', \"=6*6\", \"=sin(3,14/2)\"]  # Заполняем вторую строку\n",
    "                   ]}\n",
    "    ]\n",
    "}).execute()"
   ],
   "metadata": {
    "collapsed": false,
    "pycharm": {
     "name": "#%%\n"
    }
   }
  },
  {
   "cell_type": "code",
   "execution_count": 11,
   "outputs": [],
   "source": [
    "results = service.spreadsheets().batchUpdate(spreadsheetId = spreadsheetId, body = {\n",
    "  \"requests\": [\n",
    "\n",
    "    # Задать ширину столбца A: 20 пикселей\n",
    "    {\n",
    "      \"updateDimensionProperties\": {\n",
    "        \"range\": {\n",
    "          \"sheetId\": sheetId,\n",
    "          \"dimension\": \"COLUMNS\",  # Задаем ширину колонки\n",
    "          \"startIndex\": 0, # Нумерация начинается с нуля\n",
    "          \"endIndex\": 1 # Со столбца номер startIndex по endIndex - 1 (endIndex не входит!)\n",
    "        },\n",
    "        \"properties\": {\n",
    "          \"pixelSize\": 20 # Ширина в пикселях\n",
    "        },\n",
    "        \"fields\": \"pixelSize\" # Указываем, что нужно использовать параметр pixelSize\n",
    "      }\n",
    "    },\n",
    "\n",
    "    # Задать ширину столбцов B и C: 150 пикселей\n",
    "    {\n",
    "      \"updateDimensionProperties\": {\n",
    "        \"range\": {\n",
    "          \"sheetId\": sheetId,\n",
    "          \"dimension\": \"COLUMNS\",\n",
    "          \"startIndex\": 1,\n",
    "          \"endIndex\": 3\n",
    "        },\n",
    "        \"properties\": {\n",
    "          \"pixelSize\": 150\n",
    "        },\n",
    "        \"fields\": \"pixelSize\"\n",
    "      }\n",
    "    },\n",
    "\n",
    "    # Задать ширину столбца D: 200 пикселей\n",
    "    {\n",
    "      \"updateDimensionProperties\": {\n",
    "        \"range\": {\n",
    "          \"sheetId\": sheetId,\n",
    "          \"dimension\": \"COLUMNS\",\n",
    "          \"startIndex\": 3,\n",
    "          \"endIndex\": 4\n",
    "        },\n",
    "        \"properties\": {\n",
    "          \"pixelSize\": 200\n",
    "        },\n",
    "        \"fields\": \"pixelSize\"\n",
    "      }\n",
    "    }\n",
    "  ]\n",
    "}).execute()\n",
    "\n",
    "\n"
   ],
   "metadata": {
    "collapsed": false,
    "pycharm": {
     "name": "#%%\n"
    }
   }
  },
  {
   "cell_type": "code",
   "execution_count": 12,
   "outputs": [],
   "source": [
    "# Рисуем рамку\n",
    "results = service.spreadsheets().batchUpdate(\n",
    "    spreadsheetId = spreadsheetId,\n",
    "    body = {\n",
    "        \"requests\": [\n",
    "            {'updateBorders': {'range': {'sheetId': sheetId,\n",
    "                             'startRowIndex': 1,\n",
    "                             'endRowIndex': 3,\n",
    "                             'startColumnIndex': 1,\n",
    "                             'endColumnIndex': 4},\n",
    "                   'bottom': {\n",
    "                   # Задаем стиль для верхней границы\n",
    "                              'style': 'SOLID', # Сплошная линия\n",
    "                              'width': 1,       # Шириной 1 пиксель\n",
    "                              'color': {'red': 0, 'green': 0, 'blue': 0, 'alpha': 1}}, # Черный цвет\n",
    "                   'top': {\n",
    "                   # Задаем стиль для нижней границы\n",
    "                              'style': 'SOLID',\n",
    "                              'width': 1,\n",
    "                              'color': {'red': 0, 'green': 0, 'blue': 0, 'alpha': 1}},\n",
    "                   'left': { # Задаем стиль для левой границы\n",
    "                              'style': 'SOLID',\n",
    "                              'width': 1,\n",
    "                              'color': {'red': 0, 'green': 0, 'blue': 0, 'alpha': 1}},\n",
    "                   'right': {\n",
    "                   # Задаем стиль для правой границы\n",
    "                              'style': 'SOLID',\n",
    "                              'width': 1,\n",
    "                              'color': {'red': 0, 'green': 0, 'blue': 0, 'alpha': 1}},\n",
    "                   'innerHorizontal': {\n",
    "                   # Задаем стиль для внутренних горизонтальных линий\n",
    "                              'style': 'SOLID',\n",
    "                              'width': 1,\n",
    "                              'color': {'red': 0, 'green': 0, 'blue': 0, 'alpha': 1}},\n",
    "                   'innerVertical': {\n",
    "                   # Задаем стиль для внутренних вертикальных линий\n",
    "                              'style': 'SOLID',\n",
    "                              'width': 1,\n",
    "                              'color': {'red': 0, 'green': 0, 'blue': 0, 'alpha': 1}}\n",
    "\n",
    "                              }}\n",
    "        ]\n",
    "    }).execute()\n"
   ],
   "metadata": {
    "collapsed": false,
    "pycharm": {
     "name": "#%%\n"
    }
   }
  },
  {
   "cell_type": "code",
   "execution_count": 13,
   "outputs": [],
   "source": [
    "# Объединяем ячейки A2:D1\n",
    "results = service.spreadsheets().batchUpdate(\n",
    "    spreadsheetId = spreadsheetId,\n",
    "    body = {\n",
    "        \"requests\": [\n",
    "            {'mergeCells': {'range': {'sheetId': sheetId,\n",
    "                          'startRowIndex': 0,\n",
    "                          'endRowIndex': 1,\n",
    "                          'startColumnIndex': 1,\n",
    "                          'endColumnIndex': 4},\n",
    "                'mergeType': 'MERGE_ALL'}}\n",
    "        ]\n",
    "    }).execute()\n",
    "# Добавляем заголовок таблицы\n",
    "results1 = service.spreadsheets().values().batchUpdate(spreadsheetId = spreadsheetId, body = {\n",
    "    \"valueInputOption\": \"USER_ENTERED\",\n",
    "# Данные воспринимаются, как вводимые пользователем (считается значение формул)\n",
    "    \"data\": [\n",
    "        {\"range\": \"Лист номер один!B1\",\n",
    "         \"majorDimension\": \"ROWS\", # Сначала заполнять строки, затем столбцы\n",
    "         \"values\": [[\"Заголовок таблицы\" ]\n",
    "                   ]}\n",
    "    ]\n",
    "}).execute()"
   ],
   "metadata": {
    "collapsed": false,
    "pycharm": {
     "name": "#%%\n"
    }
   }
  },
  {
   "cell_type": "code",
   "execution_count": 14,
   "outputs": [],
   "source": [
    "# Установка формата ячеек\n",
    "results = service.spreadsheets().batchUpdate(\n",
    "    spreadsheetId = spreadsheetId,\n",
    "    body =\n",
    "{\n",
    "  \"requests\":\n",
    "  [\n",
    "    {\n",
    "      \"repeatCell\":\n",
    "      {\n",
    "        \"cell\":\n",
    "        {\n",
    "          \"userEnteredFormat\":\n",
    "          {\n",
    "            \"horizontalAlignment\": 'CENTER',\n",
    "            \"backgroundColor\": {\n",
    "                \"red\": 0.8,\n",
    "                \"green\": 0.8,\n",
    "                \"blue\": 0.8,\n",
    "                \"alpha\": 1\n",
    "            },\n",
    "            \"textFormat\":\n",
    "             {\n",
    "               \"bold\": True,\n",
    "               \"fontSize\": 14\n",
    "             }\n",
    "          }\n",
    "        },\n",
    "        \"range\":\n",
    "        {\n",
    "          \"sheetId\": sheetId,\n",
    "          \"startRowIndex\": 1,\n",
    "          \"endRowIndex\": 2,\n",
    "          \"startColumnIndex\": 1,\n",
    "          \"endColumnIndex\": 4\n",
    "        },\n",
    "        \"fields\": \"userEnteredFormat\"\n",
    "      }\n",
    "    }\n",
    "  ]\n",
    "}).execute()"
   ],
   "metadata": {
    "collapsed": false,
    "pycharm": {
     "name": "#%%\n"
    }
   }
  },
  {
   "cell_type": "code",
   "execution_count": 15,
   "outputs": [
    {
     "ename": "AttributeError",
     "evalue": "'dict' object has no attribute 'execute'",
     "output_type": "error",
     "traceback": [
      "\u001B[1;31m---------------------------------------------------------------------------\u001B[0m",
      "\u001B[1;31mAttributeError\u001B[0m                            Traceback (most recent call last)",
      "\u001B[1;32m<ipython-input-15-4f487589c257>\u001B[0m in \u001B[0;36m<module>\u001B[1;34m\u001B[0m\n\u001B[1;32m----> 1\u001B[1;33m \u001B[0mresults_read\u001B[0m\u001B[1;33m.\u001B[0m\u001B[0mexecute\u001B[0m\u001B[1;33m(\u001B[0m\u001B[1;33m)\u001B[0m\u001B[1;33m\u001B[0m\u001B[1;33m\u001B[0m\u001B[0m\n\u001B[0m\u001B[0;32m      2\u001B[0m \u001B[1;33m\u001B[0m\u001B[0m\n",
      "\u001B[1;31mAttributeError\u001B[0m: 'dict' object has no attribute 'execute'"
     ]
    }
   ],
   "source": [
    "results_read.execute()\n"
   ],
   "metadata": {
    "collapsed": false,
    "pycharm": {
     "name": "#%%\n"
    }
   }
  }
 ],
 "metadata": {
  "kernelspec": {
   "display_name": "Python 3",
   "language": "python",
   "name": "python3"
  },
  "language_info": {
   "codemirror_mode": {
    "name": "ipython",
    "version": 2
   },
   "file_extension": ".py",
   "mimetype": "text/x-python",
   "name": "python",
   "nbconvert_exporter": "python",
   "pygments_lexer": "ipython2",
   "version": "2.7.6"
  }
 },
 "nbformat": 4,
 "nbformat_minor": 0
}